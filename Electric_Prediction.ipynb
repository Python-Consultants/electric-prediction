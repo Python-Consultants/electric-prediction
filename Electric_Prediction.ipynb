{
 "cells": [
  {
   "cell_type": "code",
   "execution_count": 1,
   "metadata": {},
   "outputs": [],
   "source": [
    "import pandas as pd"
   ]
  },
  {
   "cell_type": "code",
   "execution_count": 2,
   "metadata": {},
   "outputs": [
    {
     "name": "stderr",
     "output_type": "stream",
     "text": [
      "Using TensorFlow backend.\n",
      "/anaconda3/lib/python3.6/importlib/_bootstrap.py:219: RuntimeWarning: compiletime version 3.5 of module 'tensorflow.python.framework.fast_tensor_util' does not match runtime version 3.6\n",
      "  return f(*args, **kwds)\n"
     ]
    }
   ],
   "source": [
    "from xgboost.sklearn import XGBRegressor\n",
    "from sklearn.metrics import mean_squared_error\n",
    "from keras.models import Sequential\n",
    "from keras.layers import Dense, Input\n",
    "from keras.layers import LSTM\n",
    "from keras import Model\n",
    "import matplotlib.pyplot as plt\n",
    "import lightgbm as lgb\n",
    "from math import sqrt"
   ]
  },
  {
   "cell_type": "code",
   "execution_count": 3,
   "metadata": {},
   "outputs": [],
   "source": [
    "from sklearn import preprocessing\n",
    "from sklearn.model_selection import train_test_split"
   ]
  },
  {
   "cell_type": "code",
   "execution_count": 4,
   "metadata": {},
   "outputs": [],
   "source": [
    "from sklearn.preprocessing import OneHotEncoder\n",
    "from scipy import sparse\n",
    "from sklearn.preprocessing import MinMaxScaler\n",
    "from numpy import concatenate"
   ]
  },
  {
   "cell_type": "code",
   "execution_count": 5,
   "metadata": {},
   "outputs": [],
   "source": [
    "import numpy as np"
   ]
  },
  {
   "cell_type": "code",
   "execution_count": 6,
   "metadata": {},
   "outputs": [],
   "source": [
    "def MAPE(y_true, y_pred): \n",
    "    return np.mean(np.abs((y_true - y_pred) / y_true)) * 100"
   ]
  },
  {
   "cell_type": "code",
   "execution_count": 7,
   "metadata": {},
   "outputs": [],
   "source": [
    "def MAPE_List(y_true, y_pred): \n",
    "    return (y_true - y_pred) / y_true * 100"
   ]
  },
  {
   "cell_type": "code",
   "execution_count": 8,
   "metadata": {},
   "outputs": [],
   "source": [
    "#首先在excel中做一些基础的处理，将数据多余的列清除\n",
    "#读入原始数据\n",
    "raw_data = pd.read_excel(\"weather_data.xlsx\")"
   ]
  },
  {
   "cell_type": "code",
   "execution_count": 9,
   "metadata": {},
   "outputs": [
    {
     "data": {
      "text/html": [
       "<div>\n",
       "<style scoped>\n",
       "    .dataframe tbody tr th:only-of-type {\n",
       "        vertical-align: middle;\n",
       "    }\n",
       "\n",
       "    .dataframe tbody tr th {\n",
       "        vertical-align: top;\n",
       "    }\n",
       "\n",
       "    .dataframe thead th {\n",
       "        text-align: right;\n",
       "    }\n",
       "</style>\n",
       "<table border=\"1\" class=\"dataframe\">\n",
       "  <thead>\n",
       "    <tr style=\"text-align: right;\">\n",
       "      <th></th>\n",
       "      <th>date</th>\n",
       "      <th>high_temp</th>\n",
       "      <th>low_temp</th>\n",
       "      <th>weather</th>\n",
       "      <th>weekend</th>\n",
       "      <th>holiday</th>\n",
       "      <th>holiday2</th>\n",
       "    </tr>\n",
       "  </thead>\n",
       "  <tbody>\n",
       "    <tr>\n",
       "      <th>0</th>\n",
       "      <td>2015-01-01</td>\n",
       "      <td>9</td>\n",
       "      <td>-2</td>\n",
       "      <td>晴</td>\n",
       "      <td>0</td>\n",
       "      <td>1</td>\n",
       "      <td>1</td>\n",
       "    </tr>\n",
       "    <tr>\n",
       "      <th>1</th>\n",
       "      <td>2015-01-02</td>\n",
       "      <td>15</td>\n",
       "      <td>0</td>\n",
       "      <td>晴转多云</td>\n",
       "      <td>0</td>\n",
       "      <td>1</td>\n",
       "      <td>1</td>\n",
       "    </tr>\n",
       "    <tr>\n",
       "      <th>2</th>\n",
       "      <td>2015-01-03</td>\n",
       "      <td>18</td>\n",
       "      <td>5</td>\n",
       "      <td>晴</td>\n",
       "      <td>1</td>\n",
       "      <td>1</td>\n",
       "      <td>1</td>\n",
       "    </tr>\n",
       "    <tr>\n",
       "      <th>3</th>\n",
       "      <td>2015-01-04</td>\n",
       "      <td>22</td>\n",
       "      <td>9</td>\n",
       "      <td>晴转多云</td>\n",
       "      <td>0</td>\n",
       "      <td>0</td>\n",
       "      <td>0</td>\n",
       "    </tr>\n",
       "    <tr>\n",
       "      <th>4</th>\n",
       "      <td>2015-01-05</td>\n",
       "      <td>13</td>\n",
       "      <td>5</td>\n",
       "      <td>小雨</td>\n",
       "      <td>0</td>\n",
       "      <td>0</td>\n",
       "      <td>0</td>\n",
       "    </tr>\n",
       "  </tbody>\n",
       "</table>\n",
       "</div>"
      ],
      "text/plain": [
       "         date  high_temp  low_temp weather  weekend  holiday  holiday2\n",
       "0  2015-01-01          9        -2       晴        0        1         1\n",
       "1  2015-01-02         15         0    晴转多云        0        1         1\n",
       "2  2015-01-03         18         5       晴        1        1         1\n",
       "3  2015-01-04         22         9    晴转多云        0        0         0\n",
       "4  2015-01-05         13         5      小雨        0        0         0"
      ]
     },
     "execution_count": 9,
     "metadata": {},
     "output_type": "execute_result"
    }
   ],
   "source": [
    "#查看数据头部情况\n",
    "raw_data.head()"
   ]
  },
  {
   "cell_type": "code",
   "execution_count": 10,
   "metadata": {},
   "outputs": [
    {
     "data": {
      "text/html": [
       "<div>\n",
       "<style scoped>\n",
       "    .dataframe tbody tr th:only-of-type {\n",
       "        vertical-align: middle;\n",
       "    }\n",
       "\n",
       "    .dataframe tbody tr th {\n",
       "        vertical-align: top;\n",
       "    }\n",
       "\n",
       "    .dataframe thead th {\n",
       "        text-align: right;\n",
       "    }\n",
       "</style>\n",
       "<table border=\"1\" class=\"dataframe\">\n",
       "  <thead>\n",
       "    <tr style=\"text-align: right;\">\n",
       "      <th></th>\n",
       "      <th>date</th>\n",
       "      <th>high_temp</th>\n",
       "      <th>low_temp</th>\n",
       "      <th>weather</th>\n",
       "      <th>weekend</th>\n",
       "      <th>holiday</th>\n",
       "      <th>holiday2</th>\n",
       "    </tr>\n",
       "  </thead>\n",
       "  <tbody>\n",
       "    <tr>\n",
       "      <th>907</th>\n",
       "      <td>2017-06-26</td>\n",
       "      <td>27</td>\n",
       "      <td>22</td>\n",
       "      <td>小雨</td>\n",
       "      <td>0</td>\n",
       "      <td>0</td>\n",
       "      <td>0</td>\n",
       "    </tr>\n",
       "    <tr>\n",
       "      <th>908</th>\n",
       "      <td>2017-06-27</td>\n",
       "      <td>27</td>\n",
       "      <td>22</td>\n",
       "      <td>阵雨</td>\n",
       "      <td>0</td>\n",
       "      <td>0</td>\n",
       "      <td>0</td>\n",
       "    </tr>\n",
       "    <tr>\n",
       "      <th>909</th>\n",
       "      <td>2017-06-28</td>\n",
       "      <td>25</td>\n",
       "      <td>23</td>\n",
       "      <td>中雨</td>\n",
       "      <td>0</td>\n",
       "      <td>0</td>\n",
       "      <td>0</td>\n",
       "    </tr>\n",
       "    <tr>\n",
       "      <th>910</th>\n",
       "      <td>2017-06-29</td>\n",
       "      <td>28</td>\n",
       "      <td>23</td>\n",
       "      <td>阵雨</td>\n",
       "      <td>0</td>\n",
       "      <td>0</td>\n",
       "      <td>0</td>\n",
       "    </tr>\n",
       "    <tr>\n",
       "      <th>911</th>\n",
       "      <td>2017-06-30</td>\n",
       "      <td>32</td>\n",
       "      <td>25</td>\n",
       "      <td>小雨</td>\n",
       "      <td>0</td>\n",
       "      <td>0</td>\n",
       "      <td>0</td>\n",
       "    </tr>\n",
       "  </tbody>\n",
       "</table>\n",
       "</div>"
      ],
      "text/plain": [
       "           date  high_temp  low_temp weather  weekend  holiday  holiday2\n",
       "907  2017-06-26         27        22      小雨        0        0         0\n",
       "908  2017-06-27         27        22      阵雨        0        0         0\n",
       "909  2017-06-28         25        23      中雨        0        0         0\n",
       "910  2017-06-29         28        23      阵雨        0        0         0\n",
       "911  2017-06-30         32        25      小雨        0        0         0"
      ]
     },
     "execution_count": 10,
     "metadata": {},
     "output_type": "execute_result"
    }
   ],
   "source": [
    "#查看数据尾部情况\n",
    "raw_data.tail()"
   ]
  },
  {
   "cell_type": "code",
   "execution_count": 11,
   "metadata": {},
   "outputs": [
    {
     "data": {
      "text/html": [
       "<div>\n",
       "<style scoped>\n",
       "    .dataframe tbody tr th:only-of-type {\n",
       "        vertical-align: middle;\n",
       "    }\n",
       "\n",
       "    .dataframe tbody tr th {\n",
       "        vertical-align: top;\n",
       "    }\n",
       "\n",
       "    .dataframe thead th {\n",
       "        text-align: right;\n",
       "    }\n",
       "</style>\n",
       "<table border=\"1\" class=\"dataframe\">\n",
       "  <thead>\n",
       "    <tr style=\"text-align: right;\">\n",
       "      <th></th>\n",
       "      <th>high_temp</th>\n",
       "      <th>low_temp</th>\n",
       "      <th>weekend</th>\n",
       "      <th>holiday</th>\n",
       "      <th>holiday2</th>\n",
       "    </tr>\n",
       "  </thead>\n",
       "  <tbody>\n",
       "    <tr>\n",
       "      <th>count</th>\n",
       "      <td>912.000000</td>\n",
       "      <td>912.000000</td>\n",
       "      <td>912.000000</td>\n",
       "      <td>912.000000</td>\n",
       "      <td>912.000000</td>\n",
       "    </tr>\n",
       "    <tr>\n",
       "      <th>mean</th>\n",
       "      <td>21.343202</td>\n",
       "      <td>14.399123</td>\n",
       "      <td>0.268640</td>\n",
       "      <td>0.086623</td>\n",
       "      <td>0.317982</td>\n",
       "    </tr>\n",
       "    <tr>\n",
       "      <th>std</th>\n",
       "      <td>8.778127</td>\n",
       "      <td>8.438108</td>\n",
       "      <td>0.443496</td>\n",
       "      <td>0.281436</td>\n",
       "      <td>0.465948</td>\n",
       "    </tr>\n",
       "    <tr>\n",
       "      <th>min</th>\n",
       "      <td>-3.000000</td>\n",
       "      <td>-8.000000</td>\n",
       "      <td>0.000000</td>\n",
       "      <td>0.000000</td>\n",
       "      <td>0.000000</td>\n",
       "    </tr>\n",
       "    <tr>\n",
       "      <th>25%</th>\n",
       "      <td>14.000000</td>\n",
       "      <td>7.000000</td>\n",
       "      <td>0.000000</td>\n",
       "      <td>0.000000</td>\n",
       "      <td>0.000000</td>\n",
       "    </tr>\n",
       "    <tr>\n",
       "      <th>50%</th>\n",
       "      <td>23.000000</td>\n",
       "      <td>16.000000</td>\n",
       "      <td>0.000000</td>\n",
       "      <td>0.000000</td>\n",
       "      <td>0.000000</td>\n",
       "    </tr>\n",
       "    <tr>\n",
       "      <th>75%</th>\n",
       "      <td>28.000000</td>\n",
       "      <td>21.000000</td>\n",
       "      <td>1.000000</td>\n",
       "      <td>0.000000</td>\n",
       "      <td>1.000000</td>\n",
       "    </tr>\n",
       "    <tr>\n",
       "      <th>max</th>\n",
       "      <td>39.000000</td>\n",
       "      <td>31.000000</td>\n",
       "      <td>1.000000</td>\n",
       "      <td>1.000000</td>\n",
       "      <td>1.000000</td>\n",
       "    </tr>\n",
       "  </tbody>\n",
       "</table>\n",
       "</div>"
      ],
      "text/plain": [
       "        high_temp    low_temp     weekend     holiday    holiday2\n",
       "count  912.000000  912.000000  912.000000  912.000000  912.000000\n",
       "mean    21.343202   14.399123    0.268640    0.086623    0.317982\n",
       "std      8.778127    8.438108    0.443496    0.281436    0.465948\n",
       "min     -3.000000   -8.000000    0.000000    0.000000    0.000000\n",
       "25%     14.000000    7.000000    0.000000    0.000000    0.000000\n",
       "50%     23.000000   16.000000    0.000000    0.000000    0.000000\n",
       "75%     28.000000   21.000000    1.000000    0.000000    1.000000\n",
       "max     39.000000   31.000000    1.000000    1.000000    1.000000"
      ]
     },
     "execution_count": 11,
     "metadata": {},
     "output_type": "execute_result"
    }
   ],
   "source": [
    "#查看数据的统计信息\n",
    "raw_data.describe()"
   ]
  },
  {
   "cell_type": "code",
   "execution_count": 12,
   "metadata": {},
   "outputs": [],
   "source": [
    "#对可能的缺失值做ffill处理\n",
    "raw_data.fillna(method= 'ffill', inplace=True)"
   ]
  },
  {
   "cell_type": "code",
   "execution_count": 13,
   "metadata": {},
   "outputs": [],
   "source": [
    "#读入电力数据\n",
    "y_raw = pd.read_csv(\"trade_day_dl.csv\", index_col=\"DATETIME\")"
   ]
  },
  {
   "cell_type": "code",
   "execution_count": 14,
   "metadata": {},
   "outputs": [],
   "source": [
    "#去除无用的列\n",
    "y_raw.drop(\"Y\",axis=1,inplace=True)"
   ]
  },
  {
   "cell_type": "code",
   "execution_count": 15,
   "metadata": {},
   "outputs": [
    {
     "data": {
      "text/html": [
       "<div>\n",
       "<style scoped>\n",
       "    .dataframe tbody tr th:only-of-type {\n",
       "        vertical-align: middle;\n",
       "    }\n",
       "\n",
       "    .dataframe tbody tr th {\n",
       "        vertical-align: top;\n",
       "    }\n",
       "\n",
       "    .dataframe thead th {\n",
       "        text-align: right;\n",
       "    }\n",
       "</style>\n",
       "<table border=\"1\" class=\"dataframe\">\n",
       "  <thead>\n",
       "    <tr style=\"text-align: right;\">\n",
       "      <th></th>\n",
       "      <th>TOTAL_DL</th>\n",
       "    </tr>\n",
       "    <tr>\n",
       "      <th>DATETIME</th>\n",
       "      <th></th>\n",
       "    </tr>\n",
       "  </thead>\n",
       "  <tbody>\n",
       "    <tr>\n",
       "      <th>2015/1/1</th>\n",
       "      <td>77582045.48</td>\n",
       "    </tr>\n",
       "    <tr>\n",
       "      <th>2015/1/2</th>\n",
       "      <td>64616181.98</td>\n",
       "    </tr>\n",
       "    <tr>\n",
       "      <th>2015/1/3</th>\n",
       "      <td>69255859.03</td>\n",
       "    </tr>\n",
       "    <tr>\n",
       "      <th>2015/1/4</th>\n",
       "      <td>75443414.30</td>\n",
       "    </tr>\n",
       "    <tr>\n",
       "      <th>2015/1/5</th>\n",
       "      <td>77484576.85</td>\n",
       "    </tr>\n",
       "  </tbody>\n",
       "</table>\n",
       "</div>"
      ],
      "text/plain": [
       "             TOTAL_DL\n",
       "DATETIME             \n",
       "2015/1/1  77582045.48\n",
       "2015/1/2  64616181.98\n",
       "2015/1/3  69255859.03\n",
       "2015/1/4  75443414.30\n",
       "2015/1/5  77484576.85"
      ]
     },
     "execution_count": 15,
     "metadata": {},
     "output_type": "execute_result"
    }
   ],
   "source": [
    "#展示头部\n",
    "y_raw.head()"
   ]
  },
  {
   "cell_type": "code",
   "execution_count": 16,
   "metadata": {},
   "outputs": [
    {
     "data": {
      "text/plain": [
       "1331"
      ]
     },
     "execution_count": 16,
     "metadata": {},
     "output_type": "execute_result"
    }
   ],
   "source": [
    "#查看数据长度，发现和x不一致\n",
    "len(y_raw)"
   ]
  },
  {
   "cell_type": "code",
   "execution_count": 17,
   "metadata": {},
   "outputs": [],
   "source": [
    "#缺失值处理\n",
    "y_raw.fillna(method= 'ffill', inplace=True)"
   ]
  },
  {
   "cell_type": "code",
   "execution_count": 18,
   "metadata": {},
   "outputs": [],
   "source": [
    "#选取912条数据使得和x同样长度\n",
    "y_select = y_raw[:912]"
   ]
  },
  {
   "cell_type": "code",
   "execution_count": 19,
   "metadata": {
    "scrolled": true
   },
   "outputs": [
    {
     "data": {
      "text/html": [
       "<div>\n",
       "<style scoped>\n",
       "    .dataframe tbody tr th:only-of-type {\n",
       "        vertical-align: middle;\n",
       "    }\n",
       "\n",
       "    .dataframe tbody tr th {\n",
       "        vertical-align: top;\n",
       "    }\n",
       "\n",
       "    .dataframe thead th {\n",
       "        text-align: right;\n",
       "    }\n",
       "</style>\n",
       "<table border=\"1\" class=\"dataframe\">\n",
       "  <thead>\n",
       "    <tr style=\"text-align: right;\">\n",
       "      <th></th>\n",
       "      <th>TOTAL_DL</th>\n",
       "    </tr>\n",
       "    <tr>\n",
       "      <th>DATETIME</th>\n",
       "      <th></th>\n",
       "    </tr>\n",
       "  </thead>\n",
       "  <tbody>\n",
       "    <tr>\n",
       "      <th>2015/1/1</th>\n",
       "      <td>77582045.48</td>\n",
       "    </tr>\n",
       "    <tr>\n",
       "      <th>2015/1/2</th>\n",
       "      <td>64616181.98</td>\n",
       "    </tr>\n",
       "    <tr>\n",
       "      <th>2015/1/3</th>\n",
       "      <td>69255859.03</td>\n",
       "    </tr>\n",
       "    <tr>\n",
       "      <th>2015/1/4</th>\n",
       "      <td>75443414.30</td>\n",
       "    </tr>\n",
       "    <tr>\n",
       "      <th>2015/1/5</th>\n",
       "      <td>77484576.85</td>\n",
       "    </tr>\n",
       "  </tbody>\n",
       "</table>\n",
       "</div>"
      ],
      "text/plain": [
       "             TOTAL_DL\n",
       "DATETIME             \n",
       "2015/1/1  77582045.48\n",
       "2015/1/2  64616181.98\n",
       "2015/1/3  69255859.03\n",
       "2015/1/4  75443414.30\n",
       "2015/1/5  77484576.85"
      ]
     },
     "execution_count": 19,
     "metadata": {},
     "output_type": "execute_result"
    }
   ],
   "source": [
    "#查看数据情况\n",
    "y_select.head()"
   ]
  },
  {
   "cell_type": "code",
   "execution_count": 20,
   "metadata": {},
   "outputs": [],
   "source": [
    "scaler_label = MinMaxScaler(feature_range=(0, 1))\n",
    "y_scaled = scaler_label.fit_transform(y_select)"
   ]
  },
  {
   "cell_type": "code",
   "execution_count": 21,
   "metadata": {},
   "outputs": [
    {
     "data": {
      "text/plain": [
       "(912, 1)"
      ]
     },
     "execution_count": 21,
     "metadata": {},
     "output_type": "execute_result"
    }
   ],
   "source": [
    "y_scaled.shape"
   ]
  },
  {
   "cell_type": "code",
   "execution_count": 22,
   "metadata": {},
   "outputs": [],
   "source": [
    "#将weather列做处理，首先提取出可能的weather情况\n",
    "weather_list = set(raw_data['weather'])"
   ]
  },
  {
   "cell_type": "code",
   "execution_count": 23,
   "metadata": {},
   "outputs": [
    {
     "data": {
      "text/plain": [
       "65"
      ]
     },
     "execution_count": 23,
     "metadata": {},
     "output_type": "execute_result"
    }
   ],
   "source": [
    "#共有65种\n",
    "len(weather_list)"
   ]
  },
  {
   "cell_type": "code",
   "execution_count": 24,
   "metadata": {},
   "outputs": [],
   "source": [
    "#建立labelEncoder\n",
    "le = preprocessing.LabelEncoder()\n",
    "le.fit(list(weather_list))\n",
    "weather_list_encoded = le.transform(raw_data['weather']) "
   ]
  },
  {
   "cell_type": "code",
   "execution_count": 25,
   "metadata": {
    "scrolled": true
   },
   "outputs": [
    {
     "data": {
      "text/plain": [
       "array([35, 36, 35, 36, 27, 29, 14, 36, 36, 14, 11, 43,  6, 42, 11, 14, 14,\n",
       "       35, 11, 29, 35, 36, 36, 15, 32, 27, 27, 27, 57, 41, 41, 27, 27, 32,\n",
       "       14, 36, 35, 11, 35, 35, 36, 36, 36, 36, 43, 42, 11, 35, 11, 27, 27,\n",
       "       42, 23, 32, 27, 23, 28,  4, 29, 11, 32, 45, 10, 27, 42, 28, 32, 11,\n",
       "       11, 14, 35, 37, 51, 25, 16, 51, 25, 44, 29, 11, 15, 11, 14, 13, 27,\n",
       "       14, 36, 46, 42, 11, 39, 61, 42, 50, 46, 28, 32, 16, 42, 11, 11, 43,\n",
       "       50, 35, 29, 35, 11, 46,  1, 42, 35, 11, 15, 14, 11, 15, 42, 15, 11,\n",
       "       36, 28, 50, 11, 54, 44, 14, 11, 11, 11, 13, 21, 36, 16, 27,  5, 50,\n",
       "       43,  7, 11, 14, 35, 39, 41, 41, 11, 41, 46, 41, 46, 54, 11, 11, 53,\n",
       "       54, 46, 11, 11, 62, 20,  8, 33, 42, 11, 63,  3, 46, 46,  5,  7, 11,\n",
       "       11,  3, 46, 11, 11, 11,  7,  8, 50, 11, 62, 21, 41, 41, 26,  3,  3,\n",
       "        6, 46, 46, 24, 18, 50, 11, 36, 11, 15, 50, 11, 11, 11, 54, 26, 50,\n",
       "       50, 11, 42, 35, 35, 35, 35, 35, 35, 14, 35, 35, 35, 36, 46,  3,  8,\n",
       "       46, 54, 11, 50, 54, 16, 21, 11, 11, 11, 61,  8, 46, 46, 46, 11, 11,\n",
       "       41, 41, 54, 11, 11, 11, 41, 11, 50, 25, 11, 42, 11, 11, 11, 15, 54,\n",
       "       11, 46, 47, 11, 14, 11, 41, 54, 41, 13, 29, 15, 46, 42, 36, 46,  8,\n",
       "       52, 50, 35, 11, 43, 46, 27, 27, 46, 42, 11, 35, 35, 35, 14, 35, 35,\n",
       "       35, 11, 41, 11, 11, 11, 41, 11, 11, 13, 42, 13,  3, 41, 27, 29, 35,\n",
       "       13, 27, 29, 44, 27,  3, 42, 15, 41,  3, 32, 29, 43, 28, 28, 27, 32,\n",
       "       46, 27, 27, 27, 27, 32, 35, 36, 13, 29, 11, 43, 50, 35, 13,  3, 42,\n",
       "       35, 13, 28, 32, 41, 11, 27, 32, 11, 14, 35, 36, 15, 32, 42, 28, 27,\n",
       "       27, 42, 11, 41, 11, 11, 35, 35, 36, 13, 13, 27, 27, 54, 13, 42, 13,\n",
       "       46, 27, 42, 11, 15, 11, 13, 29, 11, 11, 28,  9, 56, 34, 35, 35, 15,\n",
       "       31, 28, 27, 42, 55, 41, 11, 15, 32, 11, 14, 11, 35, 35, 13, 54, 15,\n",
       "       61, 32, 11, 35, 36, 11, 42, 14, 13,  6, 32, 11, 35, 11, 14, 15, 35,\n",
       "       35, 36, 11, 15, 13, 42, 15,  4, 27, 11, 11, 16, 32, 11, 15, 42, 46,\n",
       "       27, 29, 11, 15, 27, 32, 42, 14, 13, 42, 35, 15, 46, 42, 11, 46,  0,\n",
       "       41, 44, 59,  8, 44, 41, 41, 44, 16, 41, 15, 43,  7, 46, 11, 37, 48,\n",
       "       50, 12, 21, 32, 32,  8, 11, 11, 35, 36, 16,  3, 14, 38, 27, 16, 46,\n",
       "       49, 49, 50, 35, 36, 11, 11,  2, 11, 35, 36, 15, 30, 46, 42, 44, 54,\n",
       "       27,  3, 46,  5, 25, 41, 49, 21, 48,  6, 42, 11, 15, 16, 54, 41, 11,\n",
       "       58,  8, 42, 11, 19, 50, 11, 46, 54, 11, 14, 11, 36, 58,  5, 46, 54,\n",
       "       49, 27, 36, 60, 11, 60, 11, 11, 11, 11, 46, 46, 49, 46, 60, 60, 60,\n",
       "       43,  7, 16, 50, 11, 11, 35, 35, 35, 35, 35, 35, 35, 11, 35, 35, 11,\n",
       "       11, 46, 46, 58, 58, 58, 41, 46,  3, 11, 58, 11, 35, 35, 11, 11, 11,\n",
       "       11, 35, 58, 46, 11, 46, 35, 35, 46, 41, 11, 35, 35, 11, 11, 11, 35,\n",
       "       41, 46, 46, 46, 11, 11, 41, 46, 11, 11, 46, 19, 46, 11, 46, 41, 41,\n",
       "       41, 11, 11, 11, 11, 11, 46,  3, 46, 46, 46, 11, 46, 11, 11, 46, 46,\n",
       "       46, 11, 41, 41, 41, 41, 27, 46, 41, 46, 27, 46, 46, 46, 40, 27, 41,\n",
       "       41, 27, 41, 27, 46, 41, 46, 41, 11, 11, 35, 35, 11, 46, 46, 46, 11,\n",
       "       35, 46, 41, 27, 27, 27, 46, 11, 27, 27, 27, 27, 27, 11, 41, 27, 11,\n",
       "       35, 11, 41, 11, 11, 11, 41, 11, 11, 35, 35, 35, 11, 11, 41, 27, 41,\n",
       "       35, 35, 35, 11, 41, 27,  3, 11, 35, 11, 41, 27, 41, 35, 35, 35, 35,\n",
       "       11, 11, 11, 64, 27, 27, 27, 41, 11, 11, 27, 27, 11, 35, 11, 11, 27,\n",
       "       27, 27, 35, 35, 35, 35, 11, 41, 35, 11, 11, 11, 11, 11, 41, 11, 41,\n",
       "       27, 11, 11, 11, 27, 11, 11, 35, 35, 35, 35, 35, 11, 41, 41, 11, 27,\n",
       "       41, 22, 56, 41, 11, 11, 35, 11, 41, 11, 35, 13, 27, 41, 35, 11, 35,\n",
       "       41, 41,  3,  3, 11, 11, 41, 41, 27, 27, 27, 41,  3, 41, 27, 41, 11,\n",
       "       35, 41, 41, 22, 41, 11, 35, 11, 41, 11, 27, 27, 11,  3, 27, 41, 11,\n",
       "       35, 35, 35, 46, 22, 35, 27, 41, 41, 35, 35, 35, 22, 27, 41, 35, 35,\n",
       "       35, 46, 27, 11, 46, 11, 41, 41,  3, 11, 35, 11, 27, 11, 11, 41, 27,\n",
       "       35, 35, 35, 41, 35, 35,  3, 41, 11, 35, 35, 35, 35, 11, 46, 27, 41,\n",
       "       11, 11, 27, 27, 41, 11, 27, 27,  3,  3, 17, 41, 11, 41, 11, 11, 46,\n",
       "       27, 27, 46,  3,  0,  3, 27, 46,  3, 46, 27])"
      ]
     },
     "execution_count": 25,
     "metadata": {},
     "output_type": "execute_result"
    }
   ],
   "source": [
    "weather_list_encoded"
   ]
  },
  {
   "cell_type": "code",
   "execution_count": 26,
   "metadata": {},
   "outputs": [],
   "source": [
    "#将encoded weather放到原始数据集中\n",
    "raw_data['weather_encoded'] = weather_list_encoded"
   ]
  },
  {
   "cell_type": "code",
   "execution_count": 27,
   "metadata": {},
   "outputs": [],
   "source": [
    "#将index设置成日期，将原有的weather去除\n",
    "raw_data.set_index(\"date\",drop=True, inplace=True)\n",
    "raw_data.drop(['weather'], axis =1, inplace =True)"
   ]
  },
  {
   "cell_type": "code",
   "execution_count": 28,
   "metadata": {
    "scrolled": true
   },
   "outputs": [
    {
     "data": {
      "text/html": [
       "<div>\n",
       "<style scoped>\n",
       "    .dataframe tbody tr th:only-of-type {\n",
       "        vertical-align: middle;\n",
       "    }\n",
       "\n",
       "    .dataframe tbody tr th {\n",
       "        vertical-align: top;\n",
       "    }\n",
       "\n",
       "    .dataframe thead th {\n",
       "        text-align: right;\n",
       "    }\n",
       "</style>\n",
       "<table border=\"1\" class=\"dataframe\">\n",
       "  <thead>\n",
       "    <tr style=\"text-align: right;\">\n",
       "      <th></th>\n",
       "      <th>high_temp</th>\n",
       "      <th>low_temp</th>\n",
       "      <th>weekend</th>\n",
       "      <th>holiday</th>\n",
       "      <th>holiday2</th>\n",
       "      <th>weather_encoded</th>\n",
       "    </tr>\n",
       "    <tr>\n",
       "      <th>date</th>\n",
       "      <th></th>\n",
       "      <th></th>\n",
       "      <th></th>\n",
       "      <th></th>\n",
       "      <th></th>\n",
       "      <th></th>\n",
       "    </tr>\n",
       "  </thead>\n",
       "  <tbody>\n",
       "    <tr>\n",
       "      <th>2015-01-01</th>\n",
       "      <td>9</td>\n",
       "      <td>-2</td>\n",
       "      <td>0</td>\n",
       "      <td>1</td>\n",
       "      <td>1</td>\n",
       "      <td>35</td>\n",
       "    </tr>\n",
       "    <tr>\n",
       "      <th>2015-01-02</th>\n",
       "      <td>15</td>\n",
       "      <td>0</td>\n",
       "      <td>0</td>\n",
       "      <td>1</td>\n",
       "      <td>1</td>\n",
       "      <td>36</td>\n",
       "    </tr>\n",
       "    <tr>\n",
       "      <th>2015-01-03</th>\n",
       "      <td>18</td>\n",
       "      <td>5</td>\n",
       "      <td>1</td>\n",
       "      <td>1</td>\n",
       "      <td>1</td>\n",
       "      <td>35</td>\n",
       "    </tr>\n",
       "    <tr>\n",
       "      <th>2015-01-04</th>\n",
       "      <td>22</td>\n",
       "      <td>9</td>\n",
       "      <td>0</td>\n",
       "      <td>0</td>\n",
       "      <td>0</td>\n",
       "      <td>36</td>\n",
       "    </tr>\n",
       "    <tr>\n",
       "      <th>2015-01-05</th>\n",
       "      <td>13</td>\n",
       "      <td>5</td>\n",
       "      <td>0</td>\n",
       "      <td>0</td>\n",
       "      <td>0</td>\n",
       "      <td>27</td>\n",
       "    </tr>\n",
       "  </tbody>\n",
       "</table>\n",
       "</div>"
      ],
      "text/plain": [
       "            high_temp  low_temp  weekend  holiday  holiday2  weather_encoded\n",
       "date                                                                        \n",
       "2015-01-01          9        -2        0        1         1               35\n",
       "2015-01-02         15         0        0        1         1               36\n",
       "2015-01-03         18         5        1        1         1               35\n",
       "2015-01-04         22         9        0        0         0               36\n",
       "2015-01-05         13         5        0        0         0               27"
      ]
     },
     "execution_count": 28,
     "metadata": {},
     "output_type": "execute_result"
    }
   ],
   "source": [
    "#新的数据框\n",
    "raw_data.head()"
   ]
  },
  {
   "cell_type": "code",
   "execution_count": 29,
   "metadata": {},
   "outputs": [
    {
     "data": {
      "text/plain": [
       "OneHotEncoder(categorical_features=None, categories=None,\n",
       "       dtype=<class 'numpy.float64'>, handle_unknown='ignore',\n",
       "       n_values=None, sparse=True)"
      ]
     },
     "execution_count": 29,
     "metadata": {},
     "output_type": "execute_result"
    }
   ],
   "source": [
    "enc = OneHotEncoder(handle_unknown='ignore')\n",
    "enc.fit(np.array(raw_data['weather_encoded']).reshape(-1, 1))"
   ]
  },
  {
   "cell_type": "code",
   "execution_count": 30,
   "metadata": {},
   "outputs": [],
   "source": [
    "weather_feature = enc.transform(np.array(raw_data['weather_encoded']).reshape(-1, 1)).todense()"
   ]
  },
  {
   "cell_type": "code",
   "execution_count": 31,
   "metadata": {},
   "outputs": [],
   "source": [
    "data_without_weather = raw_data.drop(['weather_encoded'],axis=1)"
   ]
  },
  {
   "cell_type": "code",
   "execution_count": 32,
   "metadata": {},
   "outputs": [],
   "source": [
    "matrix_without_weather = data_without_weather.values"
   ]
  },
  {
   "cell_type": "code",
   "execution_count": 33,
   "metadata": {},
   "outputs": [
    {
     "name": "stderr",
     "output_type": "stream",
     "text": [
      "/anaconda3/lib/python3.6/site-packages/sklearn/utils/validation.py:590: DataConversionWarning: Data with input dtype int64 was converted to float64 by MinMaxScaler.\n",
      "  warnings.warn(msg, DataConversionWarning)\n"
     ]
    }
   ],
   "source": [
    "scaler = MinMaxScaler(feature_range=(0, 1))\n",
    "dataset = scaler.fit_transform(matrix_without_weather)"
   ]
  },
  {
   "cell_type": "code",
   "execution_count": 34,
   "metadata": {},
   "outputs": [
    {
     "data": {
      "text/plain": [
       "array([[0.28571429, 0.15384615, 0.        , 1.        , 1.        ],\n",
       "       [0.42857143, 0.20512821, 0.        , 1.        , 1.        ],\n",
       "       [0.5       , 0.33333333, 1.        , 1.        , 1.        ],\n",
       "       ...,\n",
       "       [0.66666667, 0.79487179, 0.        , 0.        , 0.        ],\n",
       "       [0.73809524, 0.79487179, 0.        , 0.        , 0.        ],\n",
       "       [0.83333333, 0.84615385, 0.        , 0.        , 0.        ]])"
      ]
     },
     "execution_count": 34,
     "metadata": {},
     "output_type": "execute_result"
    }
   ],
   "source": [
    "dataset"
   ]
  },
  {
   "cell_type": "code",
   "execution_count": 35,
   "metadata": {},
   "outputs": [],
   "source": [
    "feature_all = concatenate((dataset, weather_feature),axis=1)"
   ]
  },
  {
   "cell_type": "code",
   "execution_count": 36,
   "metadata": {},
   "outputs": [
    {
     "data": {
      "text/plain": [
       "(912, 70)"
      ]
     },
     "execution_count": 36,
     "metadata": {},
     "output_type": "execute_result"
    }
   ],
   "source": [
    "feature_all.shape"
   ]
  },
  {
   "cell_type": "code",
   "execution_count": 37,
   "metadata": {},
   "outputs": [],
   "source": [
    "#Train_Test_Split得到训练集和测试集\n",
    "x_train, x_test, y_train, y_test, index_train, index_test = train_test_split(feature_all, y_scaled, raw_data, test_size = 0.1, random_state = 89)"
   ]
  },
  {
   "cell_type": "code",
   "execution_count": 38,
   "metadata": {},
   "outputs": [
    {
     "data": {
      "text/plain": [
       "matrix([[0.30952381, 0.30769231, 0.        , ..., 0.        , 0.        ,\n",
       "         0.        ],\n",
       "        [0.9047619 , 0.92307692, 0.        , ..., 0.        , 0.        ,\n",
       "         0.        ],\n",
       "        [0.71428571, 0.74358974, 0.        , ..., 0.        , 0.        ,\n",
       "         0.        ],\n",
       "        ...,\n",
       "        [0.80952381, 0.69230769, 0.        , ..., 0.        , 0.        ,\n",
       "         0.        ],\n",
       "        [0.80952381, 0.79487179, 0.        , ..., 0.        , 0.        ,\n",
       "         0.        ],\n",
       "        [0.66666667, 0.58974359, 0.        , ..., 0.        , 0.        ,\n",
       "         0.        ]])"
      ]
     },
     "execution_count": 38,
     "metadata": {},
     "output_type": "execute_result"
    }
   ],
   "source": [
    "x_train"
   ]
  },
  {
   "cell_type": "code",
   "execution_count": 58,
   "metadata": {
    "scrolled": true
   },
   "outputs": [
    {
     "name": "stderr",
     "output_type": "stream",
     "text": [
      "/anaconda3/lib/python3.6/site-packages/ipykernel_launcher.py:2: RuntimeWarning: divide by zero encountered in true_divide\n",
      "  \n",
      "/anaconda3/lib/python3.6/site-packages/sklearn/utils/validation.py:752: DataConversionWarning: A column-vector y was passed when a 1d array was expected. Please change the shape of y to (n_samples, ), for example using ravel().\n",
      "  y = column_or_1d(y, warn=True)\n"
     ]
    },
    {
     "name": "stdout",
     "output_type": "stream",
     "text": [
      "Test RMSE xgb: 0.234\n",
      "Test MAPE xgb: inf\n",
      "Test RMSE lgb: 0.195\n",
      "Test MAPE xgb: inf\n"
     ]
    },
    {
     "name": "stderr",
     "output_type": "stream",
     "text": [
      "/anaconda3/lib/python3.6/site-packages/ipykernel_launcher.py:2: RuntimeWarning: divide by zero encountered in true_divide\n",
      "  \n"
     ]
    }
   ],
   "source": [
    "#训练XGBoost with feature scaling\n",
    "xgb = XGBRegressor(learning_rate =0.05, n_estimators=1000, max_depth=8,\n",
    "    min_child_weight=1, gamma=0, subsample=0.8, colsample_bytree=0.8,\n",
    "    nthread=4, scale_pos_weight=1, seed=27)\n",
    "xgb.fit(x_train, y_train)\n",
    "pred_xgb = xgb.predict(x_test)\n",
    "rmse_xgb = sqrt(mean_squared_error(y_test, pred_xgb))\n",
    "mape_xgb = MAPE(y_test, pred_xgb)\n",
    "print('Test RMSE xgb: %.3f' %rmse_xgb)\n",
    "print('Test MAPE xgb: %.3f' %mape_xgb)\n",
    "\n",
    "#训练LightGBM\n",
    "# train\n",
    "gbm = lgb.LGBMRegressor(objective='regression',\n",
    "                        num_leaves=31,\n",
    "                        learning_rate=0.05,\n",
    "                        n_estimators=200)\n",
    "gbm.fit(np.asarray(x_train), y_train)\n",
    "# predict\n",
    "y_pred = gbm.predict(np.asarray(x_test))\n",
    "# eval\n",
    "rmse_gbm = sqrt(mean_squared_error(y_test, y_pred))\n",
    "mape_gbm = MAPE(y_test, y_pred)\n",
    "print('Test RMSE lgb: %.3f' %rmse_gbm)\n",
    "print('Test MAPE xgb: %.3f' %mape_gbm)"
   ]
  },
  {
   "cell_type": "code",
   "execution_count": 56,
   "metadata": {},
   "outputs": [
    {
     "data": {
      "text/plain": [
       "matrix([[0.30952381, 0.30769231, 0.        , ..., 0.        , 0.        ,\n",
       "         0.        ],\n",
       "        [0.9047619 , 0.92307692, 0.        , ..., 0.        , 0.        ,\n",
       "         0.        ],\n",
       "        [0.71428571, 0.74358974, 0.        , ..., 0.        , 0.        ,\n",
       "         0.        ],\n",
       "        ...,\n",
       "        [0.80952381, 0.69230769, 0.        , ..., 0.        , 0.        ,\n",
       "         0.        ],\n",
       "        [0.80952381, 0.79487179, 0.        , ..., 0.        , 0.        ,\n",
       "         0.        ],\n",
       "        [0.66666667, 0.58974359, 0.        , ..., 0.        , 0.        ,\n",
       "         0.        ]])"
      ]
     },
     "execution_count": 56,
     "metadata": {},
     "output_type": "execute_result"
    }
   ],
   "source": []
  },
  {
   "cell_type": "code",
   "execution_count": 40,
   "metadata": {},
   "outputs": [
    {
     "data": {
      "text/plain": [
       "(820, 70)"
      ]
     },
     "execution_count": 40,
     "metadata": {},
     "output_type": "execute_result"
    }
   ],
   "source": [
    "x_train.shape"
   ]
  },
  {
   "cell_type": "code",
   "execution_count": 41,
   "metadata": {},
   "outputs": [
    {
     "name": "stdout",
     "output_type": "stream",
     "text": [
      "(820, 1, 70) (92, 1, 70)\n",
      "Train on 820 samples, validate on 92 samples\n",
      "Epoch 1/50\n",
      " - 2s - loss: 0.0951 - val_loss: 0.0412\n",
      "Epoch 2/50\n",
      " - 2s - loss: 0.0352 - val_loss: 0.0386\n",
      "Epoch 3/50\n",
      " - 2s - loss: 0.0338 - val_loss: 0.0380\n",
      "Epoch 4/50\n",
      " - 2s - loss: 0.0331 - val_loss: 0.0378\n",
      "Epoch 5/50\n",
      " - 2s - loss: 0.0327 - val_loss: 0.0377\n",
      "Epoch 6/50\n",
      " - 2s - loss: 0.0322 - val_loss: 0.0376\n",
      "Epoch 7/50\n",
      " - 2s - loss: 0.0319 - val_loss: 0.0375\n",
      "Epoch 8/50\n",
      " - 2s - loss: 0.0315 - val_loss: 0.0374\n",
      "Epoch 9/50\n",
      " - 2s - loss: 0.0311 - val_loss: 0.0374\n",
      "Epoch 10/50\n",
      " - 2s - loss: 0.0307 - val_loss: 0.0374\n",
      "Epoch 11/50\n",
      " - 2s - loss: 0.0303 - val_loss: 0.0374\n",
      "Epoch 12/50\n",
      " - 2s - loss: 0.0299 - val_loss: 0.0376\n",
      "Epoch 13/50\n",
      " - 2s - loss: 0.0295 - val_loss: 0.0378\n",
      "Epoch 14/50\n",
      " - 2s - loss: 0.0291 - val_loss: 0.0380\n",
      "Epoch 15/50\n",
      " - 2s - loss: 0.0287 - val_loss: 0.0383\n",
      "Epoch 16/50\n",
      " - 2s - loss: 0.0284 - val_loss: 0.0387\n",
      "Epoch 17/50\n",
      " - 2s - loss: 0.0281 - val_loss: 0.0391\n",
      "Epoch 18/50\n",
      " - 2s - loss: 0.0278 - val_loss: 0.0395\n",
      "Epoch 19/50\n",
      " - 2s - loss: 0.0276 - val_loss: 0.0399\n",
      "Epoch 20/50\n",
      " - 2s - loss: 0.0274 - val_loss: 0.0403\n",
      "Epoch 21/50\n",
      " - 2s - loss: 0.0272 - val_loss: 0.0407\n",
      "Epoch 22/50\n",
      " - 2s - loss: 0.0270 - val_loss: 0.0410\n",
      "Epoch 23/50\n",
      " - 2s - loss: 0.0269 - val_loss: 0.0413\n",
      "Epoch 24/50\n",
      " - 2s - loss: 0.0267 - val_loss: 0.0416\n",
      "Epoch 25/50\n",
      " - 2s - loss: 0.0266 - val_loss: 0.0418\n",
      "Epoch 26/50\n",
      " - 2s - loss: 0.0265 - val_loss: 0.0420\n",
      "Epoch 27/50\n",
      " - 2s - loss: 0.0264 - val_loss: 0.0421\n",
      "Epoch 28/50\n",
      " - 2s - loss: 0.0263 - val_loss: 0.0423\n",
      "Epoch 29/50\n",
      " - 2s - loss: 0.0262 - val_loss: 0.0424\n",
      "Epoch 30/50\n",
      " - 2s - loss: 0.0262 - val_loss: 0.0425\n",
      "Epoch 31/50\n",
      " - 2s - loss: 0.0261 - val_loss: 0.0425\n",
      "Epoch 32/50\n",
      " - 2s - loss: 0.0260 - val_loss: 0.0426\n",
      "Epoch 33/50\n",
      " - 2s - loss: 0.0260 - val_loss: 0.0426\n",
      "Epoch 34/50\n",
      " - 2s - loss: 0.0259 - val_loss: 0.0427\n",
      "Epoch 35/50\n",
      " - 2s - loss: 0.0258 - val_loss: 0.0427\n",
      "Epoch 36/50\n",
      " - 2s - loss: 0.0258 - val_loss: 0.0428\n",
      "Epoch 37/50\n",
      " - 2s - loss: 0.0257 - val_loss: 0.0427\n",
      "Epoch 38/50\n",
      " - 2s - loss: 0.0257 - val_loss: 0.0428\n",
      "Epoch 39/50\n",
      " - 2s - loss: 0.0256 - val_loss: 0.0428\n",
      "Epoch 40/50\n",
      " - 2s - loss: 0.0256 - val_loss: 0.0429\n",
      "Epoch 41/50\n",
      " - 2s - loss: 0.0255 - val_loss: 0.0429\n",
      "Epoch 42/50\n",
      " - 2s - loss: 0.0255 - val_loss: 0.0429\n",
      "Epoch 43/50\n",
      " - 2s - loss: 0.0255 - val_loss: 0.0429\n",
      "Epoch 44/50\n",
      " - 2s - loss: 0.0254 - val_loss: 0.0430\n",
      "Epoch 45/50\n",
      " - 2s - loss: 0.0254 - val_loss: 0.0430\n",
      "Epoch 46/50\n",
      " - 2s - loss: 0.0253 - val_loss: 0.0430\n",
      "Epoch 47/50\n",
      " - 2s - loss: 0.0253 - val_loss: 0.0430\n",
      "Epoch 48/50\n",
      " - 2s - loss: 0.0253 - val_loss: 0.0430\n",
      "Epoch 49/50\n",
      " - 2s - loss: 0.0252 - val_loss: 0.0430\n",
      "Epoch 50/50\n",
      " - 2s - loss: 0.0252 - val_loss: 0.0431\n"
     ]
    },
    {
     "data": {
      "image/png": "[encoded data removed]",
      "text/plain": [
       "<Figure size 432x288 with 1 Axes>"
      ]
     },
     "metadata": {
      "needs_background": "light"
     },
     "output_type": "display_data"
    },
    {
     "name": "stdout",
     "output_type": "stream",
     "text": [
      "Test RMSE LSTMs: 0.208\n",
      "Test MAPE LSTMs:inf\n"
     ]
    },
    {
     "name": "stderr",
     "output_type": "stream",
     "text": [
      "/anaconda3/lib/python3.6/site-packages/ipykernel_launcher.py:2: RuntimeWarning: divide by zero encountered in true_divide\n",
      "  \n"
     ]
    }
   ],
   "source": [
    "y_train_lstm = y_train\n",
    "y_test_lstm = y_test\n",
    "# reshape input to be 3D [samples, timesteps, features]\n",
    "x_train_array = np.asarray(x_train)\n",
    "x_test_array = np.asarray(x_test)\n",
    "x_train_lstm = x_train_array.reshape((x_train_array.shape[0], 1, x_train_array.shape[1]))\n",
    "x_test_lstm = x_test_array.reshape((x_test_array.shape[0], 1, x_test_array.shape[1]))\n",
    "#print(train_X.shape, train_y.shape, test_X.shape, test_y.shape)\n",
    "print(x_train_lstm.shape,x_test_lstm.shape)\n",
    "# design network\n",
    "model = Sequential()\n",
    "model.add(LSTM(8, input_shape=(x_train_lstm.shape[1], x_train_lstm.shape[2])))\n",
    "model.add(Dense(1))\n",
    "model.compile(loss='mean_squared_error', optimizer='adam')\n",
    "# fit network\n",
    "history = model.fit(x_train_lstm, y_train_lstm, epochs=50, batch_size=1, validation_data=(x_test_lstm, y_test_lstm), verbose=2, shuffle=False)\n",
    "# plot history\n",
    "plt.plot(history.history['loss'], label='train')\n",
    "plt.plot(history.history['val_loss'], label='test')\n",
    "plt.legend()\n",
    "plt.title(\"loss\")\n",
    "plt.show()\n",
    "\n",
    "#predict with LSTMs\n",
    "yhat = model.predict(x_test_lstm)\n",
    "# calculate RMSE\n",
    "rmse = sqrt(mean_squared_error(y_test_lstm, yhat))\n",
    "mape = MAPE(y_test_lstm, yhat)\n",
    "print('Test RMSE LSTMs: %.3f' %rmse)\n",
    "print('Test MAPE LSTMs:%.3f' %mape)"
   ]
  },
  {
   "cell_type": "code",
   "execution_count": 42,
   "metadata": {},
   "outputs": [],
   "source": [
    "y_result_lstm = pd.DataFrame(index = index_test.index)\n",
    "y_result_lstm['original'] = scaler_label.inverse_transform(y_test)\n",
    "y_result_lstm['pred'] = scaler_label.inverse_transform(yhat)\n",
    "y_result_lstm['lgbm'] = scaler_label.inverse_transform(y_pred.reshape(-1, 1))\n",
    "y_result_lstm['lgbm'] = y_result_lstm['lgbm'].astype(int)"
   ]
  },
  {
   "cell_type": "code",
   "execution_count": 43,
   "metadata": {},
   "outputs": [
    {
     "data": {
      "text/html": [
       "<div>\n",
       "<style scoped>\n",
       "    .dataframe tbody tr th:only-of-type {\n",
       "        vertical-align: middle;\n",
       "    }\n",
       "\n",
       "    .dataframe tbody tr th {\n",
       "        vertical-align: top;\n",
       "    }\n",
       "\n",
       "    .dataframe thead th {\n",
       "        text-align: right;\n",
       "    }\n",
       "</style>\n",
       "<table border=\"1\" class=\"dataframe\">\n",
       "  <thead>\n",
       "    <tr style=\"text-align: right;\">\n",
       "      <th></th>\n",
       "      <th>original</th>\n",
       "      <th>pred</th>\n",
       "      <th>lgbm</th>\n",
       "    </tr>\n",
       "    <tr>\n",
       "      <th>date</th>\n",
       "      <th></th>\n",
       "      <th></th>\n",
       "      <th></th>\n",
       "    </tr>\n",
       "  </thead>\n",
       "  <tbody>\n",
       "    <tr>\n",
       "      <th>2015-08-06</th>\n",
       "      <td>88157053.81</td>\n",
       "      <td>80914064.0</td>\n",
       "      <td>89999959</td>\n",
       "    </tr>\n",
       "    <tr>\n",
       "      <th>2015-05-06</th>\n",
       "      <td>85538242.40</td>\n",
       "      <td>84909616.0</td>\n",
       "      <td>87045362</td>\n",
       "    </tr>\n",
       "    <tr>\n",
       "      <th>2017-02-03</th>\n",
       "      <td>21419997.64</td>\n",
       "      <td>85701200.0</td>\n",
       "      <td>81401828</td>\n",
       "    </tr>\n",
       "    <tr>\n",
       "      <th>2016-04-27</th>\n",
       "      <td>85016925.27</td>\n",
       "      <td>82406280.0</td>\n",
       "      <td>85279964</td>\n",
       "    </tr>\n",
       "    <tr>\n",
       "      <th>2017-03-04</th>\n",
       "      <td>89932021.12</td>\n",
       "      <td>82327952.0</td>\n",
       "      <td>74965884</td>\n",
       "    </tr>\n",
       "  </tbody>\n",
       "</table>\n",
       "</div>"
      ],
      "text/plain": [
       "               original        pred      lgbm\n",
       "date                                         \n",
       "2015-08-06  88157053.81  80914064.0  89999959\n",
       "2015-05-06  85538242.40  84909616.0  87045362\n",
       "2017-02-03  21419997.64  85701200.0  81401828\n",
       "2016-04-27  85016925.27  82406280.0  85279964\n",
       "2017-03-04  89932021.12  82327952.0  74965884"
      ]
     },
     "execution_count": 43,
     "metadata": {},
     "output_type": "execute_result"
    }
   ],
   "source": [
    "y_result_lstm.head()"
   ]
  },
  {
   "cell_type": "code",
   "execution_count": 44,
   "metadata": {},
   "outputs": [
    {
     "data": {
      "image/png": "[encoded data removed]",
      "text/plain": [
       "<Figure size 1440x576 with 1 Axes>"
      ]
     },
     "metadata": {
      "needs_background": "light"
     },
     "output_type": "display_data"
    }
   ],
   "source": [
    "plt.figure(figsize=(20,8))\n",
    "plt.plot(y_result_lstm.index, y_result_lstm['original'],c = 'blue')\n",
    "plt.plot(y_result_lstm.index, y_result_lstm['lgbm'],c = 'green')\n",
    "plt.plot(y_result_lstm.index, y_result_lstm['pred'],c = 'red')\n",
    "plt.axis()\n",
    "plt.title(\"LSTM regressor and true value\")\n",
    "plt.xlabel(\"date\")\n",
    "plt.ylabel(\"value\")\n",
    "plt.grid()\n",
    "plt.savefig(\"2RegressionModel.png\")\n",
    "plt.show()"
   ]
  },
  {
   "cell_type": "code",
   "execution_count": 45,
   "metadata": {},
   "outputs": [],
   "source": [
    "MAPE_lstm = MAPE_List( y_result_lstm['original'], y_result_lstm['pred'])"
   ]
  },
  {
   "cell_type": "code",
   "execution_count": 46,
   "metadata": {},
   "outputs": [
    {
     "data": {
      "text/plain": [
       "27.84478546314542"
      ]
     },
     "execution_count": 46,
     "metadata": {},
     "output_type": "execute_result"
    }
   ],
   "source": [
    "np.mean(np.abs(MAPE_lstm))"
   ]
  },
  {
   "cell_type": "code",
   "execution_count": 47,
   "metadata": {},
   "outputs": [],
   "source": [
    "#春节期间，用电量大规模减少，但是本模型仅预测基于天气的，该数据不会因此被改变，因此春节期间的波动极大。\n",
    "MAPE_lgbm = MAPE_List(y_result_lstm['original'], y_result_lstm['lgbm'])"
   ]
  },
  {
   "cell_type": "code",
   "execution_count": 48,
   "metadata": {},
   "outputs": [
    {
     "data": {
      "text/plain": [
       "23.881077610918496"
      ]
     },
     "execution_count": 48,
     "metadata": {},
     "output_type": "execute_result"
    }
   ],
   "source": [
    "np.mean(np.abs(MAPE_lgbm))"
   ]
  },
  {
   "cell_type": "code",
   "execution_count": 49,
   "metadata": {},
   "outputs": [
    {
     "data": {
      "image/png": "[encoded data removed]",
      "text/plain": [
       "<Figure size 1440x576 with 1 Axes>"
      ]
     },
     "metadata": {
      "needs_background": "light"
     },
     "output_type": "display_data"
    }
   ],
   "source": [
    "import matplotlib.pyplot as plt\n",
    "plt.figure(figsize=(20,8))\n",
    "plt.plot(y_result_lstm.index, y_result_lstm['original'],c = 'blue')\n",
    "plt.plot(y_result_lstm.index, y_result_lstm['lgbm'],c = 'green')\n",
    "plt.axis()\n",
    "plt.title(\"LGBM regressor and true value\")\n",
    "plt.xlabel(\"date\")\n",
    "plt.ylabel(\"value\")\n",
    "plt.grid()\n",
    "plt.show()\n"
   ]
  },
  {
   "cell_type": "code",
   "execution_count": 50,
   "metadata": {},
   "outputs": [],
   "source": [
    "y_result_lstm['MAPE_lgbm'] = MAPE_lgbm\n",
    "y_result_lstm['MAPE_lstm'] = MAPE_lstm"
   ]
  },
  {
   "cell_type": "code",
   "execution_count": 51,
   "metadata": {},
   "outputs": [],
   "source": [
    "y_result_lstm.to_csv('test_result.csv')"
   ]
  },
  {
   "cell_type": "code",
   "execution_count": 52,
   "metadata": {},
   "outputs": [
    {
     "data": {
      "text/html": [
       "<div>\n",
       "<style scoped>\n",
       "    .dataframe tbody tr th:only-of-type {\n",
       "        vertical-align: middle;\n",
       "    }\n",
       "\n",
       "    .dataframe tbody tr th {\n",
       "        vertical-align: top;\n",
       "    }\n",
       "\n",
       "    .dataframe thead th {\n",
       "        text-align: right;\n",
       "    }\n",
       "</style>\n",
       "<table border=\"1\" class=\"dataframe\">\n",
       "  <thead>\n",
       "    <tr style=\"text-align: right;\">\n",
       "      <th></th>\n",
       "      <th>original</th>\n",
       "      <th>pred</th>\n",
       "      <th>lgbm</th>\n",
       "      <th>MAPE_lgbm</th>\n",
       "      <th>MAPE_lstm</th>\n",
       "    </tr>\n",
       "    <tr>\n",
       "      <th>date</th>\n",
       "      <th></th>\n",
       "      <th></th>\n",
       "      <th></th>\n",
       "      <th></th>\n",
       "      <th></th>\n",
       "    </tr>\n",
       "  </thead>\n",
       "  <tbody>\n",
       "    <tr>\n",
       "      <th>2015-08-06</th>\n",
       "      <td>88157053.81</td>\n",
       "      <td>80914064.0</td>\n",
       "      <td>89999959</td>\n",
       "      <td>-2.090480</td>\n",
       "      <td>8.216007</td>\n",
       "    </tr>\n",
       "    <tr>\n",
       "      <th>2015-05-06</th>\n",
       "      <td>85538242.40</td>\n",
       "      <td>84909616.0</td>\n",
       "      <td>87045362</td>\n",
       "      <td>-1.761925</td>\n",
       "      <td>0.734907</td>\n",
       "    </tr>\n",
       "    <tr>\n",
       "      <th>2017-02-03</th>\n",
       "      <td>21419997.64</td>\n",
       "      <td>85701200.0</td>\n",
       "      <td>81401828</td>\n",
       "      <td>-280.027250</td>\n",
       "      <td>-300.099017</td>\n",
       "    </tr>\n",
       "    <tr>\n",
       "      <th>2016-04-27</th>\n",
       "      <td>85016925.27</td>\n",
       "      <td>82406280.0</td>\n",
       "      <td>85279964</td>\n",
       "      <td>-0.309396</td>\n",
       "      <td>3.070736</td>\n",
       "    </tr>\n",
       "    <tr>\n",
       "      <th>2017-03-04</th>\n",
       "      <td>89932021.12</td>\n",
       "      <td>82327952.0</td>\n",
       "      <td>74965884</td>\n",
       "      <td>16.641611</td>\n",
       "      <td>8.455352</td>\n",
       "    </tr>\n",
       "    <tr>\n",
       "      <th>2016-01-13</th>\n",
       "      <td>80708116.70</td>\n",
       "      <td>65639688.0</td>\n",
       "      <td>56129437</td>\n",
       "      <td>30.453789</td>\n",
       "      <td>18.670277</td>\n",
       "    </tr>\n",
       "    <tr>\n",
       "      <th>2016-06-25</th>\n",
       "      <td>91230770.51</td>\n",
       "      <td>90789792.0</td>\n",
       "      <td>82616641</td>\n",
       "      <td>9.442132</td>\n",
       "      <td>0.483366</td>\n",
       "    </tr>\n",
       "    <tr>\n",
       "      <th>2016-06-27</th>\n",
       "      <td>79039369.64</td>\n",
       "      <td>90071096.0</td>\n",
       "      <td>82222342</td>\n",
       "      <td>-4.027072</td>\n",
       "      <td>-13.957255</td>\n",
       "    </tr>\n",
       "    <tr>\n",
       "      <th>2017-01-05</th>\n",
       "      <td>86547925.25</td>\n",
       "      <td>84937632.0</td>\n",
       "      <td>85650503</td>\n",
       "      <td>1.036908</td>\n",
       "      <td>1.860580</td>\n",
       "    </tr>\n",
       "    <tr>\n",
       "      <th>2015-01-15</th>\n",
       "      <td>81544902.23</td>\n",
       "      <td>72240312.0</td>\n",
       "      <td>79401991</td>\n",
       "      <td>2.627891</td>\n",
       "      <td>11.410389</td>\n",
       "    </tr>\n",
       "    <tr>\n",
       "      <th>2017-01-20</th>\n",
       "      <td>48183419.59</td>\n",
       "      <td>63967188.0</td>\n",
       "      <td>48672917</td>\n",
       "      <td>-1.015904</td>\n",
       "      <td>-32.757676</td>\n",
       "    </tr>\n",
       "    <tr>\n",
       "      <th>2016-04-18</th>\n",
       "      <td>81903186.74</td>\n",
       "      <td>81364696.0</td>\n",
       "      <td>84881058</td>\n",
       "      <td>-3.635843</td>\n",
       "      <td>0.657472</td>\n",
       "    </tr>\n",
       "    <tr>\n",
       "      <th>2015-08-19</th>\n",
       "      <td>85500603.46</td>\n",
       "      <td>86842544.0</td>\n",
       "      <td>77874517</td>\n",
       "      <td>8.919336</td>\n",
       "      <td>-1.569510</td>\n",
       "    </tr>\n",
       "    <tr>\n",
       "      <th>2016-03-25</th>\n",
       "      <td>86938769.73</td>\n",
       "      <td>73420352.0</td>\n",
       "      <td>71295564</td>\n",
       "      <td>17.993360</td>\n",
       "      <td>15.549355</td>\n",
       "    </tr>\n",
       "    <tr>\n",
       "      <th>2015-03-16</th>\n",
       "      <td>75844189.22</td>\n",
       "      <td>89547240.0</td>\n",
       "      <td>79932564</td>\n",
       "      <td>-5.390492</td>\n",
       "      <td>-18.067371</td>\n",
       "    </tr>\n",
       "    <tr>\n",
       "      <th>2017-03-11</th>\n",
       "      <td>91093218.02</td>\n",
       "      <td>87452904.0</td>\n",
       "      <td>89524176</td>\n",
       "      <td>1.722458</td>\n",
       "      <td>3.996251</td>\n",
       "    </tr>\n",
       "    <tr>\n",
       "      <th>2015-04-29</th>\n",
       "      <td>86073797.26</td>\n",
       "      <td>85109264.0</td>\n",
       "      <td>82782911</td>\n",
       "      <td>3.823331</td>\n",
       "      <td>1.120589</td>\n",
       "    </tr>\n",
       "    <tr>\n",
       "      <th>2016-11-11</th>\n",
       "      <td>88224809.55</td>\n",
       "      <td>81066760.0</td>\n",
       "      <td>82545725</td>\n",
       "      <td>6.437061</td>\n",
       "      <td>8.113420</td>\n",
       "    </tr>\n",
       "    <tr>\n",
       "      <th>2016-01-26</th>\n",
       "      <td>61847908.00</td>\n",
       "      <td>61345988.0</td>\n",
       "      <td>44504523</td>\n",
       "      <td>28.041991</td>\n",
       "      <td>0.811539</td>\n",
       "    </tr>\n",
       "    <tr>\n",
       "      <th>2016-01-31</th>\n",
       "      <td>43130424.45</td>\n",
       "      <td>60624048.0</td>\n",
       "      <td>59404602</td>\n",
       "      <td>-37.732477</td>\n",
       "      <td>-40.559822</td>\n",
       "    </tr>\n",
       "    <tr>\n",
       "      <th>2015-06-12</th>\n",
       "      <td>83364144.48</td>\n",
       "      <td>86842544.0</td>\n",
       "      <td>77874517</td>\n",
       "      <td>6.585118</td>\n",
       "      <td>-4.172537</td>\n",
       "    </tr>\n",
       "    <tr>\n",
       "      <th>2015-08-10</th>\n",
       "      <td>78759662.36</td>\n",
       "      <td>85005296.0</td>\n",
       "      <td>79978353</td>\n",
       "      <td>-1.547354</td>\n",
       "      <td>-7.929990</td>\n",
       "    </tr>\n",
       "    <tr>\n",
       "      <th>2017-04-15</th>\n",
       "      <td>91253315.30</td>\n",
       "      <td>90351384.0</td>\n",
       "      <td>86456377</td>\n",
       "      <td>5.256728</td>\n",
       "      <td>0.988382</td>\n",
       "    </tr>\n",
       "    <tr>\n",
       "      <th>2015-12-26</th>\n",
       "      <td>82262158.82</td>\n",
       "      <td>79325056.0</td>\n",
       "      <td>68617458</td>\n",
       "      <td>16.586850</td>\n",
       "      <td>3.570418</td>\n",
       "    </tr>\n",
       "    <tr>\n",
       "      <th>2016-02-10</th>\n",
       "      <td>14681818.61</td>\n",
       "      <td>82036112.0</td>\n",
       "      <td>61037378</td>\n",
       "      <td>-315.734451</td>\n",
       "      <td>-458.759880</td>\n",
       "    </tr>\n",
       "    <tr>\n",
       "      <th>2015-09-07</th>\n",
       "      <td>83980295.64</td>\n",
       "      <td>89692808.0</td>\n",
       "      <td>85454144</td>\n",
       "      <td>-1.754993</td>\n",
       "      <td>-6.802206</td>\n",
       "    </tr>\n",
       "    <tr>\n",
       "      <th>2015-01-23</th>\n",
       "      <td>80119659.42</td>\n",
       "      <td>74993704.0</td>\n",
       "      <td>63582121</td>\n",
       "      <td>20.641049</td>\n",
       "      <td>6.397875</td>\n",
       "    </tr>\n",
       "    <tr>\n",
       "      <th>2016-04-28</th>\n",
       "      <td>85237915.23</td>\n",
       "      <td>82902448.0</td>\n",
       "      <td>81338438</td>\n",
       "      <td>4.574815</td>\n",
       "      <td>2.739939</td>\n",
       "    </tr>\n",
       "    <tr>\n",
       "      <th>2017-02-10</th>\n",
       "      <td>57526169.60</td>\n",
       "      <td>65171480.0</td>\n",
       "      <td>43802366</td>\n",
       "      <td>23.856627</td>\n",
       "      <td>-13.290143</td>\n",
       "    </tr>\n",
       "    <tr>\n",
       "      <th>2015-05-17</th>\n",
       "      <td>83802938.14</td>\n",
       "      <td>82610496.0</td>\n",
       "      <td>79176154</td>\n",
       "      <td>5.521029</td>\n",
       "      <td>1.422912</td>\n",
       "    </tr>\n",
       "    <tr>\n",
       "      <th>...</th>\n",
       "      <td>...</td>\n",
       "      <td>...</td>\n",
       "      <td>...</td>\n",
       "      <td>...</td>\n",
       "      <td>...</td>\n",
       "    </tr>\n",
       "    <tr>\n",
       "      <th>2016-08-06</th>\n",
       "      <td>94975142.03</td>\n",
       "      <td>98147576.0</td>\n",
       "      <td>90742230</td>\n",
       "      <td>4.456863</td>\n",
       "      <td>-3.340278</td>\n",
       "    </tr>\n",
       "    <tr>\n",
       "      <th>2015-07-13</th>\n",
       "      <td>67710218.56</td>\n",
       "      <td>86724368.0</td>\n",
       "      <td>77835127</td>\n",
       "      <td>-14.953295</td>\n",
       "      <td>-28.081654</td>\n",
       "    </tr>\n",
       "    <tr>\n",
       "      <th>2016-04-30</th>\n",
       "      <td>84327688.85</td>\n",
       "      <td>93018936.0</td>\n",
       "      <td>83378019</td>\n",
       "      <td>1.126166</td>\n",
       "      <td>-10.306516</td>\n",
       "    </tr>\n",
       "    <tr>\n",
       "      <th>2016-07-23</th>\n",
       "      <td>94083435.36</td>\n",
       "      <td>90239416.0</td>\n",
       "      <td>92552228</td>\n",
       "      <td>1.627499</td>\n",
       "      <td>4.085756</td>\n",
       "    </tr>\n",
       "    <tr>\n",
       "      <th>2015-07-22</th>\n",
       "      <td>83685079.29</td>\n",
       "      <td>84651904.0</td>\n",
       "      <td>85026716</td>\n",
       "      <td>-1.603197</td>\n",
       "      <td>-1.155313</td>\n",
       "    </tr>\n",
       "    <tr>\n",
       "      <th>2015-03-20</th>\n",
       "      <td>81286995.68</td>\n",
       "      <td>78043648.0</td>\n",
       "      <td>77712659</td>\n",
       "      <td>4.397181</td>\n",
       "      <td>3.989996</td>\n",
       "    </tr>\n",
       "    <tr>\n",
       "      <th>2017-06-09</th>\n",
       "      <td>96105198.04</td>\n",
       "      <td>94904984.0</td>\n",
       "      <td>81463249</td>\n",
       "      <td>15.235335</td>\n",
       "      <td>1.248854</td>\n",
       "    </tr>\n",
       "    <tr>\n",
       "      <th>2016-12-07</th>\n",
       "      <td>85686529.61</td>\n",
       "      <td>77291368.0</td>\n",
       "      <td>72781748</td>\n",
       "      <td>15.060455</td>\n",
       "      <td>9.797528</td>\n",
       "    </tr>\n",
       "    <tr>\n",
       "      <th>2015-03-11</th>\n",
       "      <td>73254615.91</td>\n",
       "      <td>76941632.0</td>\n",
       "      <td>65118244</td>\n",
       "      <td>11.106975</td>\n",
       "      <td>-5.033152</td>\n",
       "    </tr>\n",
       "    <tr>\n",
       "      <th>2017-02-01</th>\n",
       "      <td>19868603.06</td>\n",
       "      <td>53328684.0</td>\n",
       "      <td>33781326</td>\n",
       "      <td>-70.023659</td>\n",
       "      <td>-168.406812</td>\n",
       "    </tr>\n",
       "    <tr>\n",
       "      <th>2016-12-16</th>\n",
       "      <td>89949701.77</td>\n",
       "      <td>69656624.0</td>\n",
       "      <td>62774872</td>\n",
       "      <td>30.211139</td>\n",
       "      <td>22.560473</td>\n",
       "    </tr>\n",
       "    <tr>\n",
       "      <th>2015-04-19</th>\n",
       "      <td>86399009.25</td>\n",
       "      <td>78823808.0</td>\n",
       "      <td>75515451</td>\n",
       "      <td>12.596855</td>\n",
       "      <td>8.767695</td>\n",
       "    </tr>\n",
       "    <tr>\n",
       "      <th>2017-02-07</th>\n",
       "      <td>37261798.32</td>\n",
       "      <td>72240312.0</td>\n",
       "      <td>79401991</td>\n",
       "      <td>-113.092214</td>\n",
       "      <td>-93.872318</td>\n",
       "    </tr>\n",
       "    <tr>\n",
       "      <th>2015-12-30</th>\n",
       "      <td>81452249.57</td>\n",
       "      <td>74006376.0</td>\n",
       "      <td>76861167</td>\n",
       "      <td>5.636533</td>\n",
       "      <td>9.141397</td>\n",
       "    </tr>\n",
       "    <tr>\n",
       "      <th>2017-06-10</th>\n",
       "      <td>95789929.86</td>\n",
       "      <td>96906200.0</td>\n",
       "      <td>70566341</td>\n",
       "      <td>26.332193</td>\n",
       "      <td>-1.165331</td>\n",
       "    </tr>\n",
       "    <tr>\n",
       "      <th>2017-03-10</th>\n",
       "      <td>90964879.42</td>\n",
       "      <td>86988496.0</td>\n",
       "      <td>89727844</td>\n",
       "      <td>1.359904</td>\n",
       "      <td>4.371339</td>\n",
       "    </tr>\n",
       "    <tr>\n",
       "      <th>2017-05-28</th>\n",
       "      <td>94382613.10</td>\n",
       "      <td>101427656.0</td>\n",
       "      <td>82726691</td>\n",
       "      <td>12.349650</td>\n",
       "      <td>-7.464344</td>\n",
       "    </tr>\n",
       "    <tr>\n",
       "      <th>2016-01-11</th>\n",
       "      <td>76432937.02</td>\n",
       "      <td>75064224.0</td>\n",
       "      <td>73379822</td>\n",
       "      <td>3.994502</td>\n",
       "      <td>1.790737</td>\n",
       "    </tr>\n",
       "    <tr>\n",
       "      <th>2016-10-23</th>\n",
       "      <td>87354242.79</td>\n",
       "      <td>95734800.0</td>\n",
       "      <td>84436764</td>\n",
       "      <td>3.339825</td>\n",
       "      <td>-9.593761</td>\n",
       "    </tr>\n",
       "    <tr>\n",
       "      <th>2015-02-07</th>\n",
       "      <td>60364504.11</td>\n",
       "      <td>72810816.0</td>\n",
       "      <td>73664309</td>\n",
       "      <td>-22.032493</td>\n",
       "      <td>-20.618594</td>\n",
       "    </tr>\n",
       "    <tr>\n",
       "      <th>2015-09-12</th>\n",
       "      <td>85899053.20</td>\n",
       "      <td>88031920.0</td>\n",
       "      <td>86600826</td>\n",
       "      <td>-0.816974</td>\n",
       "      <td>-2.482992</td>\n",
       "    </tr>\n",
       "    <tr>\n",
       "      <th>2015-09-25</th>\n",
       "      <td>83821143.37</td>\n",
       "      <td>85789536.0</td>\n",
       "      <td>74531718</td>\n",
       "      <td>11.082437</td>\n",
       "      <td>-2.348325</td>\n",
       "    </tr>\n",
       "    <tr>\n",
       "      <th>2017-06-26</th>\n",
       "      <td>90217901.18</td>\n",
       "      <td>94220336.0</td>\n",
       "      <td>91727461</td>\n",
       "      <td>-1.673238</td>\n",
       "      <td>-4.436409</td>\n",
       "    </tr>\n",
       "    <tr>\n",
       "      <th>2016-09-14</th>\n",
       "      <td>85270977.15</td>\n",
       "      <td>85986720.0</td>\n",
       "      <td>74792854</td>\n",
       "      <td>12.288030</td>\n",
       "      <td>-0.839375</td>\n",
       "    </tr>\n",
       "    <tr>\n",
       "      <th>2015-06-30</th>\n",
       "      <td>84005816.11</td>\n",
       "      <td>86608656.0</td>\n",
       "      <td>80030493</td>\n",
       "      <td>4.732200</td>\n",
       "      <td>-3.098404</td>\n",
       "    </tr>\n",
       "    <tr>\n",
       "      <th>2015-10-02</th>\n",
       "      <td>56032169.76</td>\n",
       "      <td>92722056.0</td>\n",
       "      <td>78730593</td>\n",
       "      <td>-40.509627</td>\n",
       "      <td>-65.480038</td>\n",
       "    </tr>\n",
       "    <tr>\n",
       "      <th>2015-02-06</th>\n",
       "      <td>64575362.75</td>\n",
       "      <td>69781384.0</td>\n",
       "      <td>59552072</td>\n",
       "      <td>7.778959</td>\n",
       "      <td>-8.061931</td>\n",
       "    </tr>\n",
       "    <tr>\n",
       "      <th>2017-06-18</th>\n",
       "      <td>93072654.92</td>\n",
       "      <td>87861392.0</td>\n",
       "      <td>81304582</td>\n",
       "      <td>12.643964</td>\n",
       "      <td>5.599134</td>\n",
       "    </tr>\n",
       "    <tr>\n",
       "      <th>2016-10-26</th>\n",
       "      <td>85773537.30</td>\n",
       "      <td>93387008.0</td>\n",
       "      <td>86337291</td>\n",
       "      <td>-0.657258</td>\n",
       "      <td>-8.876247</td>\n",
       "    </tr>\n",
       "    <tr>\n",
       "      <th>2015-04-22</th>\n",
       "      <td>85806094.43</td>\n",
       "      <td>83337720.0</td>\n",
       "      <td>81746114</td>\n",
       "      <td>4.731576</td>\n",
       "      <td>2.876689</td>\n",
       "    </tr>\n",
       "  </tbody>\n",
       "</table>\n",
       "<p>92 rows × 5 columns</p>\n",
       "</div>"
      ],
      "text/plain": [
       "               original         pred      lgbm   MAPE_lgbm   MAPE_lstm\n",
       "date                                                                  \n",
       "2015-08-06  88157053.81   80914064.0  89999959   -2.090480    8.216007\n",
       "2015-05-06  85538242.40   84909616.0  87045362   -1.761925    0.734907\n",
       "2017-02-03  21419997.64   85701200.0  81401828 -280.027250 -300.099017\n",
       "2016-04-27  85016925.27   82406280.0  85279964   -0.309396    3.070736\n",
       "2017-03-04  89932021.12   82327952.0  74965884   16.641611    8.455352\n",
       "2016-01-13  80708116.70   65639688.0  56129437   30.453789   18.670277\n",
       "2016-06-25  91230770.51   90789792.0  82616641    9.442132    0.483366\n",
       "2016-06-27  79039369.64   90071096.0  82222342   -4.027072  -13.957255\n",
       "2017-01-05  86547925.25   84937632.0  85650503    1.036908    1.860580\n",
       "2015-01-15  81544902.23   72240312.0  79401991    2.627891   11.410389\n",
       "2017-01-20  48183419.59   63967188.0  48672917   -1.015904  -32.757676\n",
       "2016-04-18  81903186.74   81364696.0  84881058   -3.635843    0.657472\n",
       "2015-08-19  85500603.46   86842544.0  77874517    8.919336   -1.569510\n",
       "2016-03-25  86938769.73   73420352.0  71295564   17.993360   15.549355\n",
       "2015-03-16  75844189.22   89547240.0  79932564   -5.390492  -18.067371\n",
       "2017-03-11  91093218.02   87452904.0  89524176    1.722458    3.996251\n",
       "2015-04-29  86073797.26   85109264.0  82782911    3.823331    1.120589\n",
       "2016-11-11  88224809.55   81066760.0  82545725    6.437061    8.113420\n",
       "2016-01-26  61847908.00   61345988.0  44504523   28.041991    0.811539\n",
       "2016-01-31  43130424.45   60624048.0  59404602  -37.732477  -40.559822\n",
       "2015-06-12  83364144.48   86842544.0  77874517    6.585118   -4.172537\n",
       "2015-08-10  78759662.36   85005296.0  79978353   -1.547354   -7.929990\n",
       "2017-04-15  91253315.30   90351384.0  86456377    5.256728    0.988382\n",
       "2015-12-26  82262158.82   79325056.0  68617458   16.586850    3.570418\n",
       "2016-02-10  14681818.61   82036112.0  61037378 -315.734451 -458.759880\n",
       "2015-09-07  83980295.64   89692808.0  85454144   -1.754993   -6.802206\n",
       "2015-01-23  80119659.42   74993704.0  63582121   20.641049    6.397875\n",
       "2016-04-28  85237915.23   82902448.0  81338438    4.574815    2.739939\n",
       "2017-02-10  57526169.60   65171480.0  43802366   23.856627  -13.290143\n",
       "2015-05-17  83802938.14   82610496.0  79176154    5.521029    1.422912\n",
       "...                 ...          ...       ...         ...         ...\n",
       "2016-08-06  94975142.03   98147576.0  90742230    4.456863   -3.340278\n",
       "2015-07-13  67710218.56   86724368.0  77835127  -14.953295  -28.081654\n",
       "2016-04-30  84327688.85   93018936.0  83378019    1.126166  -10.306516\n",
       "2016-07-23  94083435.36   90239416.0  92552228    1.627499    4.085756\n",
       "2015-07-22  83685079.29   84651904.0  85026716   -1.603197   -1.155313\n",
       "2015-03-20  81286995.68   78043648.0  77712659    4.397181    3.989996\n",
       "2017-06-09  96105198.04   94904984.0  81463249   15.235335    1.248854\n",
       "2016-12-07  85686529.61   77291368.0  72781748   15.060455    9.797528\n",
       "2015-03-11  73254615.91   76941632.0  65118244   11.106975   -5.033152\n",
       "2017-02-01  19868603.06   53328684.0  33781326  -70.023659 -168.406812\n",
       "2016-12-16  89949701.77   69656624.0  62774872   30.211139   22.560473\n",
       "2015-04-19  86399009.25   78823808.0  75515451   12.596855    8.767695\n",
       "2017-02-07  37261798.32   72240312.0  79401991 -113.092214  -93.872318\n",
       "2015-12-30  81452249.57   74006376.0  76861167    5.636533    9.141397\n",
       "2017-06-10  95789929.86   96906200.0  70566341   26.332193   -1.165331\n",
       "2017-03-10  90964879.42   86988496.0  89727844    1.359904    4.371339\n",
       "2017-05-28  94382613.10  101427656.0  82726691   12.349650   -7.464344\n",
       "2016-01-11  76432937.02   75064224.0  73379822    3.994502    1.790737\n",
       "2016-10-23  87354242.79   95734800.0  84436764    3.339825   -9.593761\n",
       "2015-02-07  60364504.11   72810816.0  73664309  -22.032493  -20.618594\n",
       "2015-09-12  85899053.20   88031920.0  86600826   -0.816974   -2.482992\n",
       "2015-09-25  83821143.37   85789536.0  74531718   11.082437   -2.348325\n",
       "2017-06-26  90217901.18   94220336.0  91727461   -1.673238   -4.436409\n",
       "2016-09-14  85270977.15   85986720.0  74792854   12.288030   -0.839375\n",
       "2015-06-30  84005816.11   86608656.0  80030493    4.732200   -3.098404\n",
       "2015-10-02  56032169.76   92722056.0  78730593  -40.509627  -65.480038\n",
       "2015-02-06  64575362.75   69781384.0  59552072    7.778959   -8.061931\n",
       "2017-06-18  93072654.92   87861392.0  81304582   12.643964    5.599134\n",
       "2016-10-26  85773537.30   93387008.0  86337291   -0.657258   -8.876247\n",
       "2015-04-22  85806094.43   83337720.0  81746114    4.731576    2.876689\n",
       "\n",
       "[92 rows x 5 columns]"
      ]
     },
     "execution_count": 52,
     "metadata": {},
     "output_type": "execute_result"
    }
   ],
   "source": [
    "y_result_lstm"
   ]
  },
  {
   "cell_type": "code",
   "execution_count": null,
   "metadata": {},
   "outputs": [],
   "source": []
  }
 ],
 "metadata": {
  "kernelspec": {
   "display_name": "Python 3",
   "language": "python",
   "name": "python3"
  },
  "language_info": {
   "codemirror_mode": {
    "name": "ipython",
    "version": 3
   },
   "file_extension": ".py",
   "mimetype": "text/x-python",
   "name": "python",
   "nbconvert_exporter": "python",
   "pygments_lexer": "ipython3",
   "version": "3.6.6"
  }
 },
 "nbformat": 4,
 "nbformat_minor": 2
}
